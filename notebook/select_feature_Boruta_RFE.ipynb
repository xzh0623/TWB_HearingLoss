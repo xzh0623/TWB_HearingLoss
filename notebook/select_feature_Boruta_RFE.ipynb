{
 "cells": [
  {
   "cell_type": "code",
   "execution_count": 42,
   "metadata": {},
   "outputs": [],
   "source": [
    "import pandas as pd\n",
    "import xgboost as xgb\n",
    "from sklearn.model_selection import train_test_split, GridSearchCV\n",
    "import numpy as np\n",
    "from imblearn.over_sampling import SMOTE, BorderlineSMOTE\n",
    "from imblearn.under_sampling import RandomUnderSampler"
   ]
  },
  {
   "cell_type": "markdown",
   "metadata": {},
   "source": [
    "#### 將各模型重要度>0.1的特徵聯集"
   ]
  },
  {
   "cell_type": "code",
   "execution_count": 43,
   "metadata": {},
   "outputs": [
    {
     "data": {
      "text/plain": [
       "(60, 5)"
      ]
     },
     "execution_count": 43,
     "metadata": {},
     "output_type": "execute_result"
    }
   ],
   "source": [
    "sex='Female'\n",
    "xgb_importance = pd.read_csv(f'../result/feature_importance/normalized/{sex}_xgb.csv')\n",
    "xgb_importance = xgb_importance[xgb_importance['importance']>0.1]\n",
    "svm_importance = pd.read_csv(f'../result/feature_importance/normalized/{sex}_svm.csv')\n",
    "svm_importance = svm_importance[svm_importance['importance']>0.1]\n",
    "xgb_importance = xgb_importance.rename(columns={\"importance\": \"xgb_importance\"})\n",
    "svm_importance = svm_importance.rename(columns={\"importance\": \"svm_importance\"})\n",
    "outer_1 = pd.merge(xgb_importance, svm_importance, on=\"feature\", how=\"outer\")\n",
    "\n",
    "rf_importance = pd.read_csv(f'../result/feature_importance/normalized/{sex}_rf.csv')\n",
    "rf_importance = rf_importance[rf_importance['importance']>0.1]\n",
    "dt_importance = pd.read_csv(f'../result/feature_importance/normalized/{sex}_dt.csv')\n",
    "dt_importance = dt_importance[dt_importance['importance']>0.1]\n",
    "rf_importance = rf_importance.rename(columns={\"importance\": \"rf_importance\"})\n",
    "dt_importance = dt_importance.rename(columns={\"importance\": \"dt_importance\"})\n",
    "outer_2 = pd.merge(rf_importance, dt_importance, on=\"feature\", how=\"outer\")\n",
    "outer = pd.merge(outer_1, outer_2, on=\"feature\", how=\"outer\")\n",
    "outer.shape"
   ]
  },
  {
   "cell_type": "markdown",
   "metadata": {},
   "source": [
    "#### 使用Boruta取出重要度排名=1的特徵"
   ]
  },
  {
   "cell_type": "code",
   "execution_count": 44,
   "metadata": {},
   "outputs": [
    {
     "name": "stdout",
     "output_type": "stream",
     "text": [
      "(4588, 166)\n",
      "(2099, 166)\n"
     ]
    }
   ],
   "source": [
    "control=pd.read_csv(f\"../result/Control_{sex}.csv\")\n",
    "training=pd.read_csv(f\"../result/Training_{sex}.csv\")\n",
    "\n",
    "print(control.shape)\n",
    "print(training.shape)"
   ]
  },
  {
   "cell_type": "code",
   "execution_count": 45,
   "metadata": {},
   "outputs": [
    {
     "name": "stdout",
     "output_type": "stream",
     "text": [
      "<class 'pandas.core.frame.DataFrame'>\n",
      "RangeIndex: 6687 entries, 0 to 6686\n",
      "Data columns (total 60 columns):\n",
      " #   Column                          Non-Null Count  Dtype  \n",
      "---  ------                          --------------  -----  \n",
      " 0   I_16                            6687 non-null   float64\n",
      " 1   I_22                            6687 non-null   float64\n",
      " 2   I_11                            6687 non-null   float64\n",
      " 3   ORTHOPEDICS_ARTICULUS           6687 non-null   float64\n",
      " 4   I_17                            6687 non-null   float64\n",
      " 5   EYE_DIS                         6687 non-null   float64\n",
      " 6   I_18                            6687 non-null   float64\n",
      " 7   ARTICULUS_ACHE                  6687 non-null   float64\n",
      " 8   MENSTRURATION_CURR              6687 non-null   float64\n",
      " 9   I_33                            6687 non-null   float64\n",
      " 10  HEART_BLOOD_TUBE                6687 non-null   float64\n",
      " 11  I_15                            6687 non-null   float64\n",
      " 12  I_24                            6687 non-null   float64\n",
      " 13  XEROPHTHALMIA                   6687 non-null   float64\n",
      " 14  SPO_HABIT                       6687 non-null   float64\n",
      " 15  I_30                            6687 non-null   float64\n",
      " 16  DIABETES                        6687 non-null   float64\n",
      " 17  FLOATERS                        6687 non-null   float64\n",
      " 18  I_35                            6687 non-null   float64\n",
      " 19  I_26                            6687 non-null   float64\n",
      " 20  MC_DURATION                     6687 non-null   float64\n",
      " 21  ALIMENTARY_CANAL                6687 non-null   float64\n",
      " 22  I_37                            6687 non-null   float64\n",
      " 23  I_42                            6687 non-null   float64\n",
      " 24  I_9                             6687 non-null   float64\n",
      " 25  AGE                             6687 non-null   float64\n",
      " 26  I_8                             6687 non-null   float64\n",
      " 27  I_34                            6687 non-null   float64\n",
      " 28  I_31                            6687 non-null   float64\n",
      " 29  CARCINOMA_IN_SITU               6687 non-null   float64\n",
      " 30  BACK_AND_WAIST_ACHE             6687 non-null   float64\n",
      " 31  PSYCHOSIS                       6687 non-null   float64\n",
      " 32  SGPT                            6687 non-null   float64\n",
      " 33  I_29                            6687 non-null   float64\n",
      " 34  I_19                            6687 non-null   float64\n",
      " 35  I_4                             6687 non-null   float64\n",
      " 36  AFP                             6687 non-null   float64\n",
      " 37  I_2                             6687 non-null   float64\n",
      " 38  I_23                            6687 non-null   float64\n",
      " 39  I_44                            6687 non-null   float64\n",
      " 40  I_14                            6687 non-null   float64\n",
      " 41  DEMENTIA                        6687 non-null   float64\n",
      " 42  OSTEOPOROSIS                    6687 non-null   float64\n",
      " 43  I_41                            6687 non-null   float64\n",
      " 44  BMI                             6687 non-null   float64\n",
      " 45  HEADACHE_AND_HEMICRANIA         6687 non-null   float64\n",
      " 46  CATARACT                        6687 non-null   float64\n",
      " 47  BODY_HEIGHT                     6687 non-null   float64\n",
      " 48  KIDNEY_STONE                    6687 non-null   float64\n",
      " 49  HBA1C                           6687 non-null   float64\n",
      " 50  SIT_DIASTOLIC_PRESSURE_AVERAGE  6687 non-null   float64\n",
      " 51  BODY_WEIGHT                     6687 non-null   float64\n",
      " 52  DEPRESSION                      6687 non-null   float64\n",
      " 53  GASTROESOPHAGEA_REFLUX          6687 non-null   float64\n",
      " 54  ANTI_HCV_AB_1                   6687 non-null   float64\n",
      " 55  TG                              6687 non-null   float64\n",
      " 56  MICROALB                        6687 non-null   float64\n",
      " 57  PLATELET                        6687 non-null   float64\n",
      " 58  I_12                            6687 non-null   float64\n",
      " 59  ANTI_HBC_AB_1                   6687 non-null   float64\n",
      "dtypes: float64(60)\n",
      "memory usage: 3.1 MB\n",
      "None\n",
      "樣本數:  6687\n"
     ]
    }
   ],
   "source": [
    "features = pd.concat([control,training],ignore_index=True)\n",
    "features = features[outer['feature']]\n",
    "\n",
    "X = features\n",
    "print(X.info())\n",
    "\n",
    "feature_names = X.columns\n",
    "X = [X.iloc[i,:].values.flatten().tolist() for i in range(control.shape[0]+training.shape[0])]\n",
    "print('樣本數: ',len(X))\n",
    "\n",
    "control_label=control.iloc[:,-1]\n",
    "training_label=training.iloc[:,-1]\n",
    "y=list(pd.concat([control_label,training_label],ignore_index=True))"
   ]
  },
  {
   "cell_type": "code",
   "execution_count": 46,
   "metadata": {},
   "outputs": [
    {
     "name": "stdout",
     "output_type": "stream",
     "text": [
      "訓練集樣本數量： 6018\n",
      "測試集樣本數量： 669\n",
      "訓練集中各類別樣本數量：\n",
      "Counter({0: 4124, 1: 1894})\n",
      "測試集中各類別樣本數量：\n",
      "Counter({0: 464, 1: 205})\n"
     ]
    }
   ],
   "source": [
    "from collections import Counter\n",
    "\n",
    "# 分割資料集 (training and validation sets)\n",
    "X_train, X_val, y_train, y_val = train_test_split(X, y, test_size=0.1, random_state=42)\n",
    "\n",
    "print(f\"訓練集樣本數量： {len(X_train)}\")\n",
    "print(f\"測試集樣本數量： {len(X_val)}\")\n",
    "train_class_distribution = Counter(y_train)\n",
    "val_class_distribution = Counter(y_val)\n",
    "print(\"訓練集中各類別樣本數量：\")\n",
    "print(train_class_distribution)\n",
    "print(\"測試集中各類別樣本數量：\")\n",
    "print(val_class_distribution)"
   ]
  },
  {
   "cell_type": "code",
   "execution_count": 47,
   "metadata": {},
   "outputs": [
    {
     "name": "stdout",
     "output_type": "stream",
     "text": [
      "SMOTE train set sampling:\n",
      "Counter({1: 4124, 0: 4124})\n",
      "BSMOTE train set sampling:\n",
      "Counter({1: 4124, 0: 4124})\n",
      "Random sampling:\n",
      "Counter({0: 205, 1: 205})\n",
      "SMOTE test set sampling:\n",
      "Counter({0: 464, 1: 464})\n",
      "BSMOTE test set sampling:\n",
      "Counter({0: 464, 1: 464})\n"
     ]
    }
   ],
   "source": [
    "# train set use SMOTE\n",
    "smote_train_X, smote_train_Y = SMOTE(random_state=42).fit_resample(X_train, y_train)\n",
    "print('SMOTE train set sampling:')\n",
    "print(Counter(smote_train_Y))\n",
    "\n",
    "# train set use BSMOTE\n",
    "bsmote_train_X, bsmote_train_Y = BorderlineSMOTE(random_state=42, kind='borderline-2').fit_resample(X_train, y_train)\n",
    "print('BSMOTE train set sampling:')\n",
    "print(Counter(bsmote_train_Y))\n",
    "\n",
    "# test set balance\n",
    "bal_x_test, bal_y_test = RandomUnderSampler(random_state=42).fit_resample(X_val,y_val)\n",
    "print('Random sampling:')\n",
    "print(Counter(bal_y_test))\n",
    "\n",
    "smote_test_X, smote_test_Y = SMOTE(random_state=42).fit_resample(X_val,y_val)\n",
    "print('SMOTE test set sampling:')\n",
    "print(Counter(smote_test_Y))\n",
    "\n",
    "bsmote_test_X, bsmote_test_Y = BorderlineSMOTE(random_state=42).fit_resample(X_val,y_val)\n",
    "print('BSMOTE test set sampling:')\n",
    "print(Counter(bsmote_test_Y))"
   ]
  },
  {
   "cell_type": "code",
   "execution_count": 48,
   "metadata": {},
   "outputs": [
    {
     "name": "stdout",
     "output_type": "stream",
     "text": [
      "Fitting 5 folds for each of 27 candidates, totalling 135 fits\n",
      "Best Parameters: {'min_samples_leaf': 30, 'min_samples_split': 30, 'n_estimators': 150}\n",
      "Best Score: 0.7714836172519617\n",
      "0.8038793103448276\n",
      "0.8365664403491756\n"
     ]
    }
   ],
   "source": [
    "# Random forest\n",
    "from sklearn import ensemble\n",
    "from sklearn.metrics import accuracy_score\n",
    "\n",
    "model = ensemble.RandomForestClassifier(random_state=42)\n",
    "param_grid = {\n",
    "    # Male\n",
    "    # 'n_estimators': [100,150,200],\n",
    "    # 'min_samples_split': [50,60,70],\n",
    "    # 'min_samples_leaf': [50,60,70]\n",
    "\n",
    "    # Female\n",
    "    'n_estimators': [100,150,200],\n",
    "    'min_samples_split': [30,40,50],\n",
    "    'min_samples_leaf': [30,40,50]\n",
    "}\n",
    "grid_search = GridSearchCV(estimator=model, param_grid=param_grid, cv=5, n_jobs=-1, verbose=2)\n",
    "grid_search.fit(smote_train_X, smote_train_Y)\n",
    "print(\"Best Parameters:\", grid_search.best_params_)\n",
    "print(\"Best Score:\", grid_search.best_score_)\n",
    "\n",
    "best_model = grid_search.best_estimator_\n",
    "y_pred = best_model.predict(smote_test_X)\n",
    "print(accuracy_score(smote_test_Y, y_pred.round()))\n",
    "\n",
    "y_pred_train = best_model.predict(smote_train_X)\n",
    "print(accuracy_score(smote_train_Y, y_pred_train.round()))"
   ]
  },
  {
   "cell_type": "code",
   "execution_count": 49,
   "metadata": {},
   "outputs": [],
   "source": [
    "smote_train_X = pd.DataFrame(smote_train_X, columns=features.columns[:])\n",
    "smote_train_Y = pd.DataFrame(smote_train_Y,columns=['Label'])\n",
    "smote_train_X = smote_train_X.values\n",
    "smote_train_Y = smote_train_Y.values.ravel()"
   ]
  },
  {
   "cell_type": "code",
   "execution_count": 50,
   "metadata": {},
   "outputs": [
    {
     "name": "stdout",
     "output_type": "stream",
     "text": [
      "                           feature  ranking\n",
      "0                             I_16        1\n",
      "1                             I_22        1\n",
      "2                             I_11        1\n",
      "3            ORTHOPEDICS_ARTICULUS        1\n",
      "4                             I_17        1\n",
      "5                          EYE_DIS        1\n",
      "6                             I_18        1\n",
      "7                   ARTICULUS_ACHE        1\n",
      "8               MENSTRURATION_CURR        1\n",
      "9                             I_33        1\n",
      "10                HEART_BLOOD_TUBE        1\n",
      "11                            I_15        1\n",
      "12                            I_24        1\n",
      "13                   XEROPHTHALMIA        1\n",
      "14                       SPO_HABIT        1\n",
      "15                            I_30        1\n",
      "16                        DIABETES        1\n",
      "17                        FLOATERS        1\n",
      "18                            I_35        1\n",
      "19                            I_26        1\n",
      "20                     MC_DURATION        1\n",
      "21                ALIMENTARY_CANAL        1\n",
      "22                            I_37        1\n",
      "23                            I_42        1\n",
      "24                             I_9        1\n",
      "25                             AGE        1\n",
      "26                             I_8        4\n",
      "27                            I_34        2\n",
      "28                            I_31        1\n",
      "29               CARCINOMA_IN_SITU        1\n",
      "30             BACK_AND_WAIST_ACHE        1\n",
      "31                       PSYCHOSIS        6\n",
      "32                            SGPT        1\n",
      "33                            I_29       11\n",
      "34                            I_19       10\n",
      "35                             I_4        1\n",
      "36                             AFP        1\n",
      "37                             I_2        9\n",
      "38                            I_23        1\n",
      "39                            I_44       12\n",
      "40                            I_14        1\n",
      "41                        DEMENTIA        7\n",
      "42                    OSTEOPOROSIS        1\n",
      "43                            I_41        3\n",
      "44                             BMI        1\n",
      "45         HEADACHE_AND_HEMICRANIA        1\n",
      "46                        CATARACT        8\n",
      "47                     BODY_HEIGHT        1\n",
      "48                    KIDNEY_STONE        5\n",
      "49                           HBA1C        1\n",
      "50  SIT_DIASTOLIC_PRESSURE_AVERAGE        1\n",
      "51                     BODY_WEIGHT        1\n",
      "52                      DEPRESSION       13\n",
      "53          GASTROESOPHAGEA_REFLUX        1\n",
      "54                   ANTI_HCV_AB_1       14\n",
      "55                              TG        1\n",
      "56                        MICROALB        1\n",
      "57                        PLATELET        1\n",
      "58                            I_12        1\n",
      "59                   ANTI_HBC_AB_1        1\n"
     ]
    }
   ],
   "source": [
    "from sklearn.ensemble import RandomForestClassifier\n",
    "from boruta import BorutaPy\n",
    "\n",
    "rf = RandomForestClassifier(n_jobs=-1, class_weight='balanced', random_state=42,\n",
    "                            min_samples_split=30, min_samples_leaf= 30, n_estimators=150)\n",
    "\n",
    "boruta_selector = BorutaPy(rf)\n",
    "boruta_selector.fit(smote_train_X,smote_train_Y)\n",
    "\n",
    "feature_ranking = boruta_selector.ranking_\n",
    "feature_names = features.columns[:]\n",
    "ranking_boruta = pd.DataFrame({'feature': feature_names, 'ranking': feature_ranking})\n",
    "print(ranking_boruta)\n",
    "# ranking_boruta.to_csv(f\"../result/Boruta/{sex}_boruta.csv\",index=False)"
   ]
  },
  {
   "cell_type": "markdown",
   "metadata": {},
   "source": [
    "#### 使用RFE觀察特徵剩餘10、15、20時的表現，取最佳特徵"
   ]
  },
  {
   "cell_type": "code",
   "execution_count": 51,
   "metadata": {},
   "outputs": [
    {
     "name": "stdout",
     "output_type": "stream",
     "text": [
      "<class 'pandas.core.frame.DataFrame'>\n",
      "RangeIndex: 6687 entries, 0 to 6686\n",
      "Data columns (total 47 columns):\n",
      " #   Column                          Non-Null Count  Dtype  \n",
      "---  ------                          --------------  -----  \n",
      " 0   I_16                            6687 non-null   float64\n",
      " 1   I_22                            6687 non-null   float64\n",
      " 2   I_11                            6687 non-null   float64\n",
      " 3   ORTHOPEDICS_ARTICULUS           6687 non-null   float64\n",
      " 4   I_17                            6687 non-null   float64\n",
      " 5   EYE_DIS                         6687 non-null   float64\n",
      " 6   I_18                            6687 non-null   float64\n",
      " 7   ARTICULUS_ACHE                  6687 non-null   float64\n",
      " 8   MENSTRURATION_CURR              6687 non-null   float64\n",
      " 9   I_33                            6687 non-null   float64\n",
      " 10  HEART_BLOOD_TUBE                6687 non-null   float64\n",
      " 11  I_15                            6687 non-null   float64\n",
      " 12  I_24                            6687 non-null   float64\n",
      " 13  XEROPHTHALMIA                   6687 non-null   float64\n",
      " 14  SPO_HABIT                       6687 non-null   float64\n",
      " 15  I_30                            6687 non-null   float64\n",
      " 16  DIABETES                        6687 non-null   float64\n",
      " 17  FLOATERS                        6687 non-null   float64\n",
      " 18  I_35                            6687 non-null   float64\n",
      " 19  I_26                            6687 non-null   float64\n",
      " 20  MC_DURATION                     6687 non-null   float64\n",
      " 21  ALIMENTARY_CANAL                6687 non-null   float64\n",
      " 22  I_37                            6687 non-null   float64\n",
      " 23  I_42                            6687 non-null   float64\n",
      " 24  I_9                             6687 non-null   float64\n",
      " 25  AGE                             6687 non-null   float64\n",
      " 26  I_31                            6687 non-null   float64\n",
      " 27  CARCINOMA_IN_SITU               6687 non-null   float64\n",
      " 28  BACK_AND_WAIST_ACHE             6687 non-null   float64\n",
      " 29  SGPT                            6687 non-null   float64\n",
      " 30  I_4                             6687 non-null   float64\n",
      " 31  AFP                             6687 non-null   float64\n",
      " 32  I_23                            6687 non-null   float64\n",
      " 33  I_14                            6687 non-null   float64\n",
      " 34  OSTEOPOROSIS                    6687 non-null   float64\n",
      " 35  BMI                             6687 non-null   float64\n",
      " 36  HEADACHE_AND_HEMICRANIA         6687 non-null   float64\n",
      " 37  BODY_HEIGHT                     6687 non-null   float64\n",
      " 38  HBA1C                           6687 non-null   float64\n",
      " 39  SIT_DIASTOLIC_PRESSURE_AVERAGE  6687 non-null   float64\n",
      " 40  BODY_WEIGHT                     6687 non-null   float64\n",
      " 41  GASTROESOPHAGEA_REFLUX          6687 non-null   float64\n",
      " 42  TG                              6687 non-null   float64\n",
      " 43  MICROALB                        6687 non-null   float64\n",
      " 44  PLATELET                        6687 non-null   float64\n",
      " 45  I_12                            6687 non-null   float64\n",
      " 46  ANTI_HBC_AB_1                   6687 non-null   float64\n",
      "dtypes: float64(47)\n",
      "memory usage: 2.4 MB\n",
      "None\n",
      "樣本數:  6687\n"
     ]
    }
   ],
   "source": [
    "features = pd.concat([control,training],ignore_index=True)\n",
    "features = features[ranking_boruta[ranking_boruta['ranking']==1]['feature']]\n",
    "\n",
    "#將ID排除\n",
    "X = features\n",
    "print(X.info())\n",
    "\n",
    "feature_names = X.columns\n",
    "X = [X.iloc[i,:].values.flatten().tolist() for i in range(control.shape[0]+training.shape[0])]\n",
    "print('樣本數: ',len(X))\n",
    "\n",
    "control_label=control.iloc[:,-1]\n",
    "training_label=training.iloc[:,-1]\n",
    "y=list(pd.concat([control_label,training_label],ignore_index=True))"
   ]
  },
  {
   "cell_type": "code",
   "execution_count": 52,
   "metadata": {},
   "outputs": [
    {
     "name": "stdout",
     "output_type": "stream",
     "text": [
      "訓練集樣本數量： 6018\n",
      "測試集樣本數量： 669\n",
      "訓練集中各類別樣本數量：\n",
      "Counter({0: 4124, 1: 1894})\n",
      "測試集中各類別樣本數量：\n",
      "Counter({0: 464, 1: 205})\n"
     ]
    }
   ],
   "source": [
    "from collections import Counter\n",
    "\n",
    "# 分割資料集 (training and validation sets)\n",
    "X_train, X_val, y_train, y_val = train_test_split(X, y, test_size=0.1, random_state=42)\n",
    "\n",
    "print(f\"訓練集樣本數量： {len(X_train)}\")\n",
    "print(f\"測試集樣本數量： {len(X_val)}\")\n",
    "train_class_distribution = Counter(y_train)\n",
    "val_class_distribution = Counter(y_val)\n",
    "print(\"訓練集中各類別樣本數量：\")\n",
    "print(train_class_distribution)\n",
    "print(\"測試集中各類別樣本數量：\")\n",
    "print(val_class_distribution)"
   ]
  },
  {
   "cell_type": "code",
   "execution_count": 53,
   "metadata": {},
   "outputs": [
    {
     "name": "stdout",
     "output_type": "stream",
     "text": [
      "SMOTE train set sampling:\n",
      "Counter({1: 4124, 0: 4124})\n",
      "BSMOTE train set sampling:\n",
      "Counter({1: 4124, 0: 4124})\n",
      "Random sampling:\n",
      "Counter({0: 205, 1: 205})\n",
      "SMOTE test set sampling:\n",
      "Counter({0: 464, 1: 464})\n",
      "BSMOTE test set sampling:\n",
      "Counter({0: 464, 1: 464})\n"
     ]
    }
   ],
   "source": [
    "# train set use SMOTE\n",
    "smote_train_X, smote_train_Y = SMOTE(random_state=42).fit_resample(X_train, y_train)\n",
    "print('SMOTE train set sampling:')\n",
    "print(Counter(smote_train_Y))\n",
    "\n",
    "# train set use BSMOTE\n",
    "bsmote_train_X, bsmote_train_Y = BorderlineSMOTE(random_state=42, kind='borderline-2').fit_resample(X_train, y_train)\n",
    "print('BSMOTE train set sampling:')\n",
    "print(Counter(bsmote_train_Y))\n",
    "\n",
    "# test set balance\n",
    "bal_x_test, bal_y_test = RandomUnderSampler(random_state=42).fit_resample(X_val,y_val)\n",
    "print('Random sampling:')\n",
    "print(Counter(bal_y_test))\n",
    "\n",
    "smote_test_X, smote_test_Y = SMOTE(random_state=42).fit_resample(X_val,y_val)\n",
    "print('SMOTE test set sampling:')\n",
    "print(Counter(smote_test_Y))\n",
    "\n",
    "bsmote_test_X, bsmote_test_Y = BorderlineSMOTE(random_state=42).fit_resample(X_val,y_val)\n",
    "print('BSMOTE test set sampling:')\n",
    "print(Counter(bsmote_test_Y))\n",
    "\n",
    "X_train, y_train = smote_train_X, smote_train_Y\n",
    "X_val, y_val = smote_test_X, smote_test_Y"
   ]
  },
  {
   "cell_type": "code",
   "execution_count": 54,
   "metadata": {},
   "outputs": [],
   "source": [
    "from sklearn.tree import DecisionTreeClassifier\n",
    "import matplotlib.pyplot as plt\n",
    "from sklearn.feature_selection import RFE\n",
    "from sklearn.metrics import  recall_score, precision_score, accuracy_score, matthews_corrcoef\n",
    "from sklearn import svm\n",
    "from sklearn import ensemble\n",
    "\n",
    "def set_parameters(model, param_grid):\n",
    "    grid_search = GridSearchCV(estimator=model, param_grid=param_grid, cv=5, n_jobs=-1, verbose=2)\n",
    "    return grid_search\n",
    "\n",
    "#xgb\n",
    "param_xgb = {\n",
    "    # Male\n",
    "    # 'learning_rate': [0.01,0.05, 0.1],\n",
    "    # 'n_estimators': [10,50,100],\n",
    "    # 'max_depth': [2,3, 4],\n",
    "    # 'subsample': [0.5,0.6,0.7],\n",
    "    # 'colsample_bytree': [0.2,0.3,0.4],\n",
    "    # 'min_child_weight': [20,30,40]\n",
    "    # Female\n",
    "    'learning_rate': [0.001, 0.01, 0.1],\n",
    "    'n_estimators': [100,200,300],\n",
    "    'max_depth': [2, 3, 4],\n",
    "    'subsample': [0.6, 0.7, 0.8],\n",
    "    'colsample_bytree': [0.4, 0.5, 0.6],\n",
    "}\n",
    "xgb_model = set_parameters(xgb.XGBClassifier(random_state=42), param_xgb)\n",
    "\n",
    "# rf\n",
    "param_rf = {\n",
    "    # Male\n",
    "    # 'n_estimators': [100,150,200,250],\n",
    "    # 'min_samples_split': [50,60,70,80,90],\n",
    "    # 'min_samples_leaf': [50,60,70,80,90]\n",
    "\n",
    "    # Female\n",
    "    'n_estimators': [100,150,200],\n",
    "    'max_depth': [None, 5, 10, 20],\n",
    "    'min_samples_split': [30,40,50],\n",
    "    'min_samples_leaf': [30,40,50],\n",
    "    'max_features': [5,10,20]\n",
    "}\n",
    "rf_model = set_parameters(\n",
    "    ensemble.RandomForestClassifier(random_state=42), param_rf\n",
    ")\n",
    "\n",
    "# SVM\n",
    "param_svm = {\n",
    "    # Male\n",
    "    # 'kernel': ['rbf', 'poly', 'sigmoid']\n",
    "    # Female\n",
    "}\n",
    "svm_model = set_parameters(svm.SVC(random_state=42), param_svm)\n",
    "\n",
    "# dt\n",
    "param_dt = {\n",
    "    # Male\n",
    "    # 'max_depth': [3,4,5,6,7,8,9],\n",
    "    # 'max_features': [20,30,35,40]\n",
    "    # Female\n",
    "    'max_depth': [6,7,8,9,10],\n",
    "    'max_features': [30,35,40]\n",
    "}\n",
    "dt_model = set_parameters(DecisionTreeClassifier(random_state=42), param_dt)"
   ]
  },
  {
   "cell_type": "code",
   "execution_count": 57,
   "metadata": {},
   "outputs": [
    {
     "name": "stdout",
     "output_type": "stream",
     "text": [
      "Select 10 features:\n",
      "feature importances:\n",
      "                 feature  importance\n",
      "4                   I_18    0.166045\n",
      "6     MENSTRURATION_CURR    0.158108\n",
      "3                EYE_DIS    0.111706\n",
      "1                   I_11    0.105232\n",
      "2  ORTHOPEDICS_ARTICULUS    0.102085\n",
      "8               DIABETES    0.090985\n",
      "0                   I_16    0.076258\n",
      "7              SPO_HABIT    0.065853\n",
      "5         ARTICULUS_ACHE    0.063405\n",
      "9      CARCINOMA_IN_SITU    0.060324\n"
     ]
    },
    {
     "data": {
      "image/png": "[encoded data removed]",
      "text/plain": [
       "<Figure size 720x576 with 1 Axes>"
      ]
     },
     "metadata": {
      "needs_background": "light"
     },
     "output_type": "display_data"
    },
    {
     "name": "stdout",
     "output_type": "stream",
     "text": [
      "Testing model: XGBoost\n",
      "Fitting 5 folds for each of 243 candidates, totalling 1215 fits\n",
      "Best Parameters: {'colsample_bytree': 0.6, 'learning_rate': 0.1, 'max_depth': 3, 'n_estimators': 200, 'subsample': 0.6}\n",
      "Best Score: 0.7710128820037856\n",
      "Training Accuracy: 0.8034675072744908\n",
      "Testing Accuracy: 0.7963362068965517\n",
      "Testing model: Random Forest\n",
      "Fitting 5 folds for each of 324 candidates, totalling 1620 fits\n",
      "Best Parameters: {'max_depth': 10, 'max_features': 5, 'min_samples_leaf': 30, 'min_samples_split': 30, 'n_estimators': 150}\n",
      "Best Score: 0.7479645698954371\n",
      "Training Accuracy: 0.7881910766246363\n",
      "Testing Accuracy: 0.7855603448275862\n",
      "Testing model: Decision Tree\n",
      "Fitting 5 folds for each of 15 candidates, totalling 75 fits\n",
      "Best Parameters: {'max_depth': 9, 'max_features': 30}\n",
      "Best Score: 0.7471208629656174\n",
      "Training Accuracy: 0.7886760426770126\n",
      "Testing Accuracy: 0.7661637931034483\n",
      "Testing model: SVM\n",
      "Fitting 5 folds for each of 1 candidates, totalling 5 fits\n",
      "Best Parameters: {}\n",
      "Best Score: 0.6588279397982247\n",
      "Training Accuracy: 0.6636760426770126\n",
      "Testing Accuracy: 0.6627155172413793\n",
      "Select 15 features:\n",
      "feature importances:\n",
      "                  feature  importance\n",
      "5                    I_18    0.178284\n",
      "7      MENSTRURATION_CURR    0.136049\n",
      "4                 EYE_DIS    0.082337\n",
      "3   ORTHOPEDICS_ARTICULUS    0.079654\n",
      "6          ARTICULUS_ACHE    0.070888\n",
      "0                    I_16    0.063975\n",
      "2                    I_11    0.063184\n",
      "10              SPO_HABIT    0.059723\n",
      "11               DIABETES    0.049220\n",
      "14      CARCINOMA_IN_SITU    0.044399\n",
      "12                   I_35    0.037762\n",
      "1                    I_22    0.037468\n",
      "9                    I_24    0.035624\n",
      "8                    I_33    0.032733\n",
      "13                   I_31    0.028699\n"
     ]
    },
    {
     "data": {
      "image/png": "[encoded data removed]",
      "text/plain": [
       "<Figure size 720x576 with 1 Axes>"
      ]
     },
     "metadata": {
      "needs_background": "light"
     },
     "output_type": "display_data"
    },
    {
     "name": "stdout",
     "output_type": "stream",
     "text": [
      "Testing model: XGBoost\n",
      "Fitting 5 folds for each of 243 candidates, totalling 1215 fits\n",
      "Best Parameters: {'colsample_bytree': 0.5, 'learning_rate': 0.1, 'max_depth': 3, 'n_estimators': 200, 'subsample': 0.8}\n",
      "Best Score: 0.7782861238216\n",
      "Training Accuracy: 0.8114694471387003\n",
      "Testing Accuracy: 0.7995689655172413\n",
      "Testing model: Random Forest\n",
      "Fitting 5 folds for each of 324 candidates, totalling 1620 fits\n",
      "Best Parameters: {'max_depth': None, 'max_features': 5, 'min_samples_leaf': 30, 'min_samples_split': 30, 'n_estimators': 150}\n",
      "Best Score: 0.7579068305860301\n",
      "Training Accuracy: 0.803831231813773\n",
      "Testing Accuracy: 0.7920258620689655\n",
      "Testing model: Decision Tree\n",
      "Fitting 5 folds for each of 15 candidates, totalling 75 fits\n",
      "Best Parameters: {'max_depth': 9, 'max_features': 30}\n",
      "Best Score: 0.7456613190730839\n",
      "Training Accuracy: 0.7918283220174588\n",
      "Testing Accuracy: 0.7575431034482759\n",
      "Testing model: SVM\n",
      "Fitting 5 folds for each of 1 candidates, totalling 5 fits\n",
      "Best Parameters: {}\n",
      "Best Score: 0.6599194369406619\n",
      "Training Accuracy: 0.6808923375363725\n",
      "Testing Accuracy: 0.65625\n",
      "Select 20 features:\n",
      "feature importances:\n",
      "                  feature  importance\n",
      "5                    I_18    0.148386\n",
      "7      MENSTRURATION_CURR    0.120725\n",
      "2                    I_11    0.078344\n",
      "4                 EYE_DIS    0.070688\n",
      "3   ORTHOPEDICS_ARTICULUS    0.068527\n",
      "0                    I_16    0.066991\n",
      "6          ARTICULUS_ACHE    0.054579\n",
      "10              SPO_HABIT    0.044192\n",
      "19      CARCINOMA_IN_SITU    0.035055\n",
      "1                    I_22    0.034519\n",
      "11               DIABETES    0.034510\n",
      "12                   I_35    0.030727\n",
      "8                    I_33    0.029585\n",
      "18                   I_31    0.029224\n",
      "9                    I_24    0.028821\n",
      "16                    I_9    0.028733\n",
      "13                   I_26    0.026482\n",
      "17                    AGE    0.024992\n",
      "14            MC_DURATION    0.023792\n",
      "15                   I_37    0.021127\n"
     ]
    },
    {
     "data": {
      "image/png": "[encoded data removed]",
      "text/plain": [
       "<Figure size 720x576 with 1 Axes>"
      ]
     },
     "metadata": {
      "needs_background": "light"
     },
     "output_type": "display_data"
    },
    {
     "name": "stdout",
     "output_type": "stream",
     "text": [
      "Testing model: XGBoost\n",
      "Fitting 5 folds for each of 243 candidates, totalling 1215 fits\n",
      "Best Parameters: {'colsample_bytree': 0.4, 'learning_rate': 0.1, 'max_depth': 4, 'n_estimators': 100, 'subsample': 0.6}\n",
      "Best Score: 0.7879800797544885\n",
      "Training Accuracy: 0.8320805043646945\n",
      "Testing Accuracy: 0.8092672413793104\n",
      "Testing model: Random Forest\n",
      "Fitting 5 folds for each of 324 candidates, totalling 1620 fits\n",
      "Best Parameters: {'max_depth': 10, 'max_features': 5, 'min_samples_leaf': 30, 'min_samples_split': 30, 'n_estimators': 150}\n",
      "Best Score: 0.7683290148299246\n",
      "Training Accuracy: 0.8210475266731329\n",
      "Testing Accuracy: 0.8017241379310345\n",
      "Testing model: Decision Tree\n",
      "Fitting 5 folds for each of 15 candidates, totalling 75 fits\n",
      "Best Parameters: {'max_depth': 9, 'max_features': 30}\n",
      "Best Score: 0.7342617196831873\n",
      "Training Accuracy: 0.8027400581959263\n",
      "Testing Accuracy: 0.7747844827586207\n",
      "Testing model: SVM\n",
      "Fitting 5 folds for each of 1 candidates, totalling 5 fits\n",
      "Best Parameters: {}\n",
      "Best Score: 0.7032028226473346\n",
      "Training Accuracy: 0.7373908826382153\n",
      "Testing Accuracy: 0.7165948275862069\n"
     ]
    }
   ],
   "source": [
    "import seaborn as sns\n",
    "models = {'XGBoost': xgb_model, \n",
    "         'Random Forest': rf_model, \n",
    "         'Decision Tree': dt_model,\n",
    "         'SVM': svm_model}\n",
    "\n",
    "results = {model_name: {'mcc': [],'accuracy':[], 'sensitivity': [], 'specificity': [], 'num_features': []} for model_name in models}\n",
    "\n",
    "feature_count=20\n",
    "for i in range(10,feature_count+1,5):\n",
    "    print(\"Select\",i,\"features:\")\n",
    "    rfe = RFE(estimator=xgb.XGBClassifier(random_state=42), n_features_to_select=i)\n",
    "    X_train_rfe = rfe.fit_transform(X_train, y_train)\n",
    "    X_val_rfe = rfe.transform(X_val)\n",
    "    selected_features = np.where(rfe.support_)[0]\n",
    "    df_feature_importances = pd.DataFrame({\n",
    "    'feature': features.columns[selected_features],\n",
    "    'importance': rfe.estimator_.feature_importances_\n",
    "    })\n",
    "    df_feature_importances.sort_values('importance', ascending=False, inplace=True)\n",
    "\n",
    "    print(\"feature importances:\")\n",
    "    print(pd.DataFrame(df_feature_importances))\n",
    "\n",
    "    plt.figure(figsize=(10, 8))\n",
    "    sns.barplot(x='importance', y='feature', data=df_feature_importances, palette='magma')\n",
    "    plt.title('Feature Importances')\n",
    "    plt.xlabel('Importance')\n",
    "    plt.ylabel('Feature')\n",
    "    plt.show()\n",
    "    \n",
    "    for test_name, test_model in models.items():\n",
    "        print(\"Testing model:\", test_name)\n",
    "        grid_search = test_model\n",
    "        grid_search.fit(X_train_rfe, y_train)\n",
    "        print(\"Best Parameters:\", grid_search.best_params_)\n",
    "        print(\"Best Score:\", grid_search.best_score_)\n",
    "        best_model = grid_search.best_estimator_\n",
    "\n",
    "        #train\n",
    "        y_pred_train = best_model.predict(X_train_rfe)\n",
    "        accuracy_train = accuracy_score(y_train, y_pred_train)\n",
    "        print(\"Training Accuracy:\", accuracy_train)\n",
    "    \n",
    "        # test\n",
    "        y_pred = best_model.predict(X_val_rfe)\n",
    "        accuracy = accuracy_score(y_val, y_pred)\n",
    "        print(\"Testing Accuracy:\", accuracy)\n",
    "        mcc = matthews_corrcoef(y_val, y_pred)\n",
    "        sensitivity = recall_score(y_val, y_pred)\n",
    "        specificity = precision_score(y_val, y_pred)\n",
    "        \n",
    "        results[test_name]['mcc'].append(mcc)\n",
    "        results[test_name]['accuracy'].append(accuracy)\n",
    "        results[test_name]['sensitivity'].append(sensitivity)\n",
    "        results[test_name]['specificity'].append(specificity)\n",
    "        results[test_name]['num_features'].append(i)"
   ]
  },
  {
   "cell_type": "code",
   "execution_count": 58,
   "metadata": {},
   "outputs": [
    {
     "data": {
      "image/png": "[encoded data removed]",
      "text/plain": [
       "<Figure size 1080x576 with 4 Axes>"
      ]
     },
     "metadata": {
      "needs_background": "light"
     },
     "output_type": "display_data"
    }
   ],
   "source": [
    "fig, axs = plt.subplots(2, 2, figsize=(15, 8))\n",
    "\n",
    "for model_name in models:\n",
    "    # MCC\n",
    "    axs[0, 0].plot(results[model_name]['num_features'], results[model_name]['mcc'], marker='o', label=model_name)\n",
    "    axs[0, 0].set_xlabel('# features')\n",
    "    axs[0, 0].set_ylabel('MCC')\n",
    "    axs[0, 0].set_title('MCC vs. Number of features')\n",
    "    \n",
    "    # Sensitivity\n",
    "    axs[0, 1].plot(results[model_name]['num_features'], results[model_name]['sensitivity'], marker='o', label=model_name)\n",
    "    axs[0, 1].set_xlabel('# features')\n",
    "    axs[0, 1].set_ylabel('Sensitivity')\n",
    "    axs[0, 1].set_title('Sensitivity vs. Number of features')\n",
    "    \n",
    "    # Specificity\n",
    "    axs[1, 0].plot(results[model_name]['num_features'], results[model_name]['specificity'], marker='o', label=model_name)\n",
    "    axs[1, 0].set_xlabel('# features')\n",
    "    axs[1, 0].set_ylabel('Specificity')\n",
    "    axs[1, 0].set_title('Specificity vs. Number of features')\n",
    "\n",
    "    # Accuracy\n",
    "    axs[1, 1].plot(results[model_name]['num_features'], results[model_name]['accuracy'], marker='o', label=model_name)\n",
    "    axs[1, 1].set_xlabel('# features')\n",
    "    axs[1, 1].set_ylabel('Accuracy')\n",
    "    axs[1, 1].set_title('Accuracy vs. Number of features')\n",
    "\n",
    "plt.legend()\n",
    "plt.tight_layout()\n",
    "plt.show()"
   ]
  }
 ],
 "metadata": {
  "kernelspec": {
   "display_name": "base",
   "language": "python",
   "name": "python3"
  },
  "language_info": {
   "codemirror_mode": {
    "name": "ipython",
    "version": 3
   },
   "file_extension": ".py",
   "mimetype": "text/x-python",
   "name": "python",
   "nbconvert_exporter": "python",
   "pygments_lexer": "ipython3",
   "version": "3.8.8"
  }
 },
 "nbformat": 4,
 "nbformat_minor": 2
}
