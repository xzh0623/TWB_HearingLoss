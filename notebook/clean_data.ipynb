{
 "cells": [
  {
   "cell_type": "markdown",
   "metadata": {},
   "source": [
    "#### 資料清理"
   ]
  },
  {
   "cell_type": "code",
   "execution_count": 53,
   "metadata": {},
   "outputs": [
    {
     "name": "stderr",
     "output_type": "stream",
     "text": [
      "c:\\Users\\Administrator\\anaconda3\\lib\\site-packages\\IPython\\core\\interactiveshell.py:3165: DtypeWarning: Columns (1,2,3,4,5,6,7,8,9,10,11,12,13,14,15,16,17,18,19,20,21,22,23,24,25,26,27,28,29,30,31,32,33,34,35,36,37,38,39,40,41,42,43,44,45,46,47,48,49,50,51,52,53,54,55,56,57,58,59,60,61,62,63,64,65,66,67,68,69,70,71,72,73,74,75,76,77,78,79,80,81,82,83,84,85,86,87,88,89,90,91,92,93,94,95,96,97,98,99,100,101,102,103,104,105,106,107,108,109,110,111,112,113,114,115,116,117,118,119,120,121,122,123,124,125,126,127,128,129,130,131,132,133,134,135,136,137,138,139,140,141,142,143,144,145,146,152,153,154,155,156,157,158,159,160,161,163,164,165,166) have mixed types.Specify dtype option on import or set low_memory=False.\n",
      "  has_raised = await self.run_ast_nodes(code_ast.body, cell_name,\n"
     ]
    }
   ],
   "source": [
    "import pandas as pd\n",
    "normal=pd.read_csv(\"../resource/無聽力減退(0725).csv\")\n",
    "normal=normal.iloc[1::,:]"
   ]
  },
  {
   "cell_type": "code",
   "execution_count": 54,
   "metadata": {},
   "outputs": [
    {
     "name": "stderr",
     "output_type": "stream",
     "text": [
      "c:\\Users\\Administrator\\anaconda3\\lib\\site-packages\\IPython\\core\\interactiveshell.py:3165: DtypeWarning: Columns (1,2,3,4,5,6,7,8,9,10,11,12,13,14,15,16,17,18,19,20,21,22,23,24,25,26,27,28,29,30,31,32,33,34,35,36,37,38,39,40,41,42,43,44,45,46,47,48,49,50,51,52,53,54,55,56,57,58,59,60,61,62,63,64,65,66,67,68,69,70,71,72,73,74,75,76,77,78,79,80,81,82,83,84,85,86,87,88,89,90,91,92,93,94,95,96,97,98,99,100,101,102,103,104,105,106,107,108,109,110,111,112,113,114,115,116,117,118,119,120,121,122,123,124,125,126,128,129,130,131,132,133,134,135,136,137,138,139,140,141,142,143,144,145,146,152,153,154,155,156,157,158,159,161,163,164,165) have mixed types.Specify dtype option on import or set low_memory=False.\n",
      "  has_raised = await self.run_ast_nodes(code_ast.body, cell_name,\n"
     ]
    }
   ],
   "source": [
    "tumor=pd.read_csv(\"../resource/有聽力減退(0725).csv\")\n",
    "tumor=tumor.iloc[1::,:]"
   ]
  },
  {
   "cell_type": "code",
   "execution_count": 55,
   "metadata": {},
   "outputs": [
    {
     "name": "stdout",
     "output_type": "stream",
     "text": [
      "(5603, 167)\n",
      "(12400, 167)\n"
     ]
    }
   ],
   "source": [
    "# Training Set (有聽力減退)\n",
    "print(tumor.shape)\n",
    "\n",
    "# Control Set (無聽力減退)\n",
    "print(normal.shape)"
   ]
  },
  {
   "cell_type": "code",
   "execution_count": 56,
   "metadata": {},
   "outputs": [],
   "source": [
    "tumor['SEX']=tumor['SEX'].astype(int)\n",
    "normal['SEX']=normal['SEX'].astype(int)"
   ]
  },
  {
   "cell_type": "code",
   "execution_count": 57,
   "metadata": {},
   "outputs": [
    {
     "data": {
      "image/png": "[encoded data removed]",
      "text/plain": [
       "<Figure size 864x432 with 2 Axes>"
      ]
     },
     "metadata": {},
     "output_type": "display_data"
    }
   ],
   "source": [
    "import matplotlib.pyplot as plt\n",
    "import numpy as np\n",
    "\n",
    "tumor_counts = tumor['SEX'].value_counts(normalize=True).sort_index() * 100\n",
    "normal_counts = normal['SEX'].value_counts(normalize=True).sort_index() * 100\n",
    "tumor_samples = tumor['SEX'].value_counts().sort_index()\n",
    "normal_samples = normal['SEX'].value_counts().sort_index()\n",
    "\n",
    "all_sex_values = sorted(set(tumor_counts.index).union(normal_counts.index))\n",
    "tumor_counts = tumor_counts.reindex(all_sex_values, fill_value=0)\n",
    "normal_counts = normal_counts.reindex(all_sex_values, fill_value=0)\n",
    "tumor_samples = tumor_samples.reindex(all_sex_values, fill_value=0)\n",
    "normal_samples = normal_samples.reindex(all_sex_values, fill_value=0)\n",
    "\n",
    "labels = ['Male', 'Female']\n",
    "\n",
    "def autopct_format(pct, allvalues):\n",
    "    absolute = int(np.round(pct/100.*np.sum(allvalues)))\n",
    "    return \"{:.1f}% ({:d})\".format(pct, absolute)\n",
    "\n",
    "plt.figure(figsize=(12, 6))\n",
    "\n",
    "plt.subplot(1, 2, 1)\n",
    "plt.pie(tumor_counts, labels=labels, autopct=lambda pct: autopct_format(pct, tumor_samples), startangle=90, colors=['lightblue', 'pink'], textprops={'fontsize': 12})\n",
    "plt.title(f'Training Set SEX Distribution (Total={tumor.shape[0]})',fontsize=14)\n",
    "\n",
    "plt.subplot(1, 2, 2)\n",
    "plt.pie(normal_counts, labels=labels, autopct=lambda pct: autopct_format(pct, normal_samples), startangle=90, colors=['lightblue', 'pink'], textprops={'fontsize': 12})\n",
    "plt.title(f'Control Set SEX Distribution (Total={normal.shape[0]})',fontsize=14)\n",
    "\n",
    "plt.show()\n"
   ]
  },
  {
   "cell_type": "code",
   "execution_count": 58,
   "metadata": {},
   "outputs": [],
   "source": [
    "tumor['SEX']=tumor['SEX'].astype(str)\n",
    "normal['SEX']=normal['SEX'].astype(str)"
   ]
  },
  {
   "cell_type": "code",
   "execution_count": 59,
   "metadata": {},
   "outputs": [
    {
     "data": {
      "text/plain": [
       "(7652, 167)"
      ]
     },
     "execution_count": 59,
     "metadata": {},
     "output_type": "execute_result"
    }
   ],
   "source": [
    "# 區分Training / Control Set 男女檔案\n",
    "def filter_femaleinfo(df):\n",
    "    columns_to_drop = ['DYSMENORRHEA','MENARCHE', 'MENSTRURATION_CURR', 'MENOPAUSE', 'HORMOME_MED', 'HOMO_2_YR', 'HOMO_2_MN', 'UTERINE_CA', 'CERVICAL_CA', 'OVARIAN_CA']\n",
    "    df = df.drop(columns=columns_to_drop)\n",
    "    return df\n",
    "\n",
    "def reindex(df):\n",
    "    # 將 I_32 從原位置移除並添加到最後\n",
    "    all_columns = list(df.columns)\n",
    "    columns_to_move = ['I_32']\n",
    "    new_columns = [col for col in all_columns if col not in columns_to_move] + columns_to_move\n",
    "    df = df[new_columns]\n",
    "    return df\n",
    "\n",
    "\n",
    "# Training Set\n",
    "tumor_male=tumor[tumor['SEX']=='1'] #Male\n",
    "tumor_female=tumor[tumor['SEX']=='2'] #Female\n",
    "tumor_male=filter_femaleinfo(tumor_male)\n",
    "tumor_male=reindex(tumor_male)\n",
    "tumor_female=reindex(tumor_female)\n",
    "\n",
    "# Contol Set\n",
    "normal_male=normal[normal['SEX']=='1'] #Male\n",
    "normal_female=normal[normal['SEX']=='2'] #Female\n",
    "normal_male=filter_femaleinfo(normal_male)\n",
    "normal_male=reindex(normal_male)\n",
    "normal_female=reindex(normal_female)\n",
    "normal_female.shape"
   ]
  },
  {
   "cell_type": "code",
   "execution_count": 60,
   "metadata": {},
   "outputs": [
    {
     "data": {
      "text/html": [
       "<div>\n",
       "<style scoped>\n",
       "    .dataframe tbody tr th:only-of-type {\n",
       "        vertical-align: middle;\n",
       "    }\n",
       "\n",
       "    .dataframe tbody tr th {\n",
       "        vertical-align: top;\n",
       "    }\n",
       "\n",
       "    .dataframe thead th {\n",
       "        text-align: right;\n",
       "    }\n",
       "</style>\n",
       "<table border=\"1\" class=\"dataframe\">\n",
       "  <thead>\n",
       "    <tr style=\"text-align: right;\">\n",
       "      <th></th>\n",
       "      <th>Missing Values</th>\n",
       "      <th>Percentage</th>\n",
       "    </tr>\n",
       "  </thead>\n",
       "  <tbody>\n",
       "    <tr>\n",
       "      <th>C_HVY_SMK_YR</th>\n",
       "      <td>1925</td>\n",
       "      <td>91.19</td>\n",
       "    </tr>\n",
       "    <tr>\n",
       "      <th>DRK_CURR_TIME</th>\n",
       "      <td>1834</td>\n",
       "      <td>86.88</td>\n",
       "    </tr>\n",
       "    <tr>\n",
       "      <th>TWB2_ID</th>\n",
       "      <td>1423</td>\n",
       "      <td>67.41</td>\n",
       "    </tr>\n",
       "    <tr>\n",
       "      <th>SMK_CURR</th>\n",
       "      <td>1245</td>\n",
       "      <td>58.98</td>\n",
       "    </tr>\n",
       "    <tr>\n",
       "      <th>JOB_LGST_OCCUPATION</th>\n",
       "      <td>412</td>\n",
       "      <td>19.52</td>\n",
       "    </tr>\n",
       "    <tr>\n",
       "      <th>...</th>\n",
       "      <td>...</td>\n",
       "      <td>...</td>\n",
       "    </tr>\n",
       "    <tr>\n",
       "      <th>I_19</th>\n",
       "      <td>0</td>\n",
       "      <td>0.00</td>\n",
       "    </tr>\n",
       "    <tr>\n",
       "      <th>I_18</th>\n",
       "      <td>0</td>\n",
       "      <td>0.00</td>\n",
       "    </tr>\n",
       "    <tr>\n",
       "      <th>I_17</th>\n",
       "      <td>0</td>\n",
       "      <td>0.00</td>\n",
       "    </tr>\n",
       "    <tr>\n",
       "      <th>I_16</th>\n",
       "      <td>0</td>\n",
       "      <td>0.00</td>\n",
       "    </tr>\n",
       "    <tr>\n",
       "      <th>I_32</th>\n",
       "      <td>0</td>\n",
       "      <td>0.00</td>\n",
       "    </tr>\n",
       "  </tbody>\n",
       "</table>\n",
       "<p>157 rows × 2 columns</p>\n",
       "</div>"
      ],
      "text/plain": [
       "                     Missing Values  Percentage\n",
       "C_HVY_SMK_YR                   1925       91.19\n",
       "DRK_CURR_TIME                  1834       86.88\n",
       "TWB2_ID                        1423       67.41\n",
       "SMK_CURR                       1245       58.98\n",
       "JOB_LGST_OCCUPATION             412       19.52\n",
       "...                             ...         ...\n",
       "I_19                              0        0.00\n",
       "I_18                              0        0.00\n",
       "I_17                              0        0.00\n",
       "I_16                              0        0.00\n",
       "I_32                              0        0.00\n",
       "\n",
       "[157 rows x 2 columns]"
      ]
     },
     "execution_count": 60,
     "metadata": {},
     "output_type": "execute_result"
    }
   ],
   "source": [
    "# 計算空值比例\n",
    "def cal_nan(df):\n",
    "    missing_values_count = df.isnull().sum()\n",
    "\n",
    "    missing_values_ratio = (df.isnull().mean() * 100).round(2)\n",
    "\n",
    "    missing_values_summary = pd.DataFrame({\n",
    "    'Missing Values': missing_values_count,\n",
    "    'Percentage': missing_values_ratio}).sort_values(by='Missing Values', ascending=False)\n",
    "\n",
    "    return missing_values_summary\n",
    "cal_nan(normal_female)\n",
    "cal_nan(normal_male)\n",
    "cal_nan(tumor_female)\n",
    "cal_nan(tumor_male)"
   ]
  },
  {
   "cell_type": "code",
   "execution_count": 61,
   "metadata": {},
   "outputs": [],
   "source": [
    "#將高比例缺失欄位刪除\n",
    "normal_male = normal_male.drop(columns=['C_HVY_SMK_YR','DRK_CURR_TIME','SMK_CURR'])\n",
    "tumor_male = tumor_male.drop(columns=['C_HVY_SMK_YR','DRK_CURR_TIME','SMK_CURR'])\n",
    "normal_female = normal_female.drop(columns=['C_HVY_SMK_YR','DRK_CURR_TIME','SMK_CURR','HOMO_2_MN','HOMO_2_YR'])\n",
    "tumor_female = tumor_female.drop(columns=['C_HVY_SMK_YR','DRK_CURR_TIME','SMK_CURR','HOMO_2_MN','HOMO_2_YR'])"
   ]
  },
  {
   "cell_type": "code",
   "execution_count": 62,
   "metadata": {},
   "outputs": [],
   "source": [
    "# 欄位處理\n",
    "def check_data_format(df_data, label_value):\n",
    "    print(\"原始資料:\" + str(df_data.shape))\n",
    "    # 生活習慣，空值刪除\n",
    "    df_data = df_data.dropna(subset=[\"AGE\", \"SEX\", \"DRK\", \"NUT_EXPERIENCE\", \"JOB_LGST_OCCUPATION\",\"SPO_HABIT\"])\n",
    "    print(\"刪除生活習慣空值後剩餘:\" + str(df_data.shape))\n",
    "    # 疾病史，空值刪除\n",
    "    df_data = df_data.dropna(subset=[\"ORTHOPEDICS_ARTICULUS\", \"OSTEOPOROSIS\", \"ARTHRITIS\", \"GOUT\", \"LUNG_RESPIRATORY\",\n",
    "                                     \"ASTHMA\", \"EMPHYSEMA_BRONCHITIS\", \"HEART_BLOOD_TUBE\", \"VALVE_HEART_DIS\", \"CORONARY_ARTERY_DIS\",\n",
    "                                     \"ARRHYTHMIA\", \"CARDIOMYOPATHY\", \"CONGENITAL_HEART_DIS\", \"OTHER_HEART_DIS\", \"HYPERLIPIDEMIA\",\n",
    "                                     \"HYPERTENSION\", \"APOPLEXIA\", \"DIABETES\", \"ALIMENTARY_CANAL\", \"PEPTIC_ULCER\",\n",
    "                                     \"GASTROESOPHAGEA_REFLUX\", \"IRRITABLE_BOWEL_SND\", \"PSYCHOSIS\", \"DEPRESSION\", \"MANIC_DEPRESSION\",\n",
    "                                     \"POSTPARTUM_DEPRESSION\", \"OBSESSIVE_COMPULSIVE_DIS\", \"ALCOHOLISM_DRUG_ABUSE\", \"SCHIZOPHRENIA\", \"NERVOUS_SYSTEM\",\n",
    "                                     \"EPILEPSY\", \"HEMICRANIA\", \"MULTIPLE_SCLEROSIS\", \"PARKISON\", \"DEMENTIA\",\n",
    "                                     \"LIVER_GALL_STONE\", \"KIDNEY_STONE\", \"RENAL_FAILURE\", \"VERTIGO\",\n",
    "                                     \"CARCINOMA_IN_SITU\", \"LIVER_CA\", \"LUNG_CA\", \"BREAST_CA\", \"GASTRIC_CA\",\n",
    "                                     \"COLORECTAL_CA\", \"NASOPHARYNGEAL_CA\", \"PROSTATE_CA\", \"OTHER_CA\", \"ARTICULUS_ACHE\", \"NECK_ACHE\",\n",
    "                                     \"BACK_AND_WAIST_ACHE\", \"SICATICA\", \"HEADACHE_AND_HEMICRANIA\", \"EYE_DIS\",\n",
    "                                     \"CATARACT\", \"GLAUCOMA\", \"XEROPHTHALMIA\", \"RENTINAL_DETACHMENT\", \"FLOATERS\",\n",
    "                                     \"BLIND\", \"COLOR_BLIND\", \"OTHER_EYE_DIS\"])\n",
    "    print(\"刪除疾病史空值後剩餘:\" + str(df_data.shape))\n",
    "\n",
    "    if df_data['SEX'].mode()[0]=='2':\n",
    "        # 疾病史(有無經痛)，若無資料刪除\n",
    "        df_data = df_data.dropna(subset=[\"DYSMENORRHEA\"],how='any')\n",
    "        \n",
    "        # 女性生理狀況，若無資料刪除\n",
    "        df_data = df_data.dropna(subset=[\"MENSTRURATION_CURR\", \"HORMOME_MED\", \"UTERINE_CA\", \"CERVICAL_CA\", \"OVARIAN_CA\"], how='any')\n",
    "        # 女性生理狀況: 停經年齡 (1)已停經:無資料刪除\n",
    "        df_data = df_data[~((df_data['MENSTRURATION_CURR'] == '1') & (df_data['MENOPAUSE'].isna()))]\n",
    "        print(\"刪除女性生理狀況之類別資料空值後剩餘:\" + str(df_data.shape))\n",
    "\n",
    "        # 女性生理狀況: 初經年齡空值補眾數\n",
    "        MENARCHE_mode = df_data['MENARCHE'].mode()[0]\n",
    "        df_data.loc[:, 'MENARCHE'] = df_data.apply(\n",
    "            lambda row: MENARCHE_mode if pd.isna(row['MENARCHE']) else row['MENARCHE'],\n",
    "            axis=1\n",
    "        )\n",
    "\n",
    "         # 女性相關問題:新增欄位\"過去及至今月經期間\"，(1)已停經:停經年齡-初經年齡(2)未停經:現在年齡-初經年齡\n",
    "        insert_index = df_data.columns.get_loc(\"MENOPAUSE\")\n",
    "        df_data.insert(insert_index, \"MC_DURATION\",True)\n",
    "        df_data['MC_DURATION'] = df_data.apply(\n",
    "            lambda row: int(row['MENOPAUSE'])-int(row['MENARCHE']) if row['MENSTRURATION_CURR'] == '1' else int(row['AGE'])-int(row['MENARCHE']),\n",
    "            axis=1\n",
    "        )\n",
    "        df_data = df_data.drop(columns=['MENOPAUSE'])\n",
    "\n",
    "    # 中醫問診資料，空值刪除\n",
    "    df_data = df_data.dropna(subset=['I_0', 'I_1', 'I_2', 'I_3', 'I_4', 'I_5', 'I_6', 'I_7', 'I_8',\n",
    "                                       'I_9', 'I_10', 'I_11', 'I_12', 'I_13', 'I_14', 'I_15', 'I_16',\n",
    "                                       'I_17', 'I_18', 'I_19', 'I_20', 'I_21', 'I_22', 'I_23', 'I_24',\n",
    "                                        'I_25', 'I_26', 'I_27', 'I_28', 'I_29', 'I_30', 'I_31', 'I_32',\n",
    "                                        'I_33', 'I_34', 'I_35', 'I_36', 'I_37', 'I_38', 'I_39', 'I_40',\n",
    "                                        'I_41', 'I_42', 'I_43', 'I_44'])\n",
    "    print(\"刪除中醫問診之類別資料空值後剩餘:\" + str(df_data.shape))\n",
    "\n",
    "    # 身體檢測資料，空值刪除\n",
    "    df_data = df_data.dropna(subset=[\"BODY_HEIGHT\", \"BODY_WEIGHT\", \"BMI\", \"BODY_WAISTLINE\", \"BODY_BUTTOCKS\",\n",
    "                                     \"BODY_FAT_RATE\", \"RBC\", \"WBC\", \"PLATELET\", \"HB\", \"HCT\", \"HBA1C\", \"ANTI_HCV_AB_1\",\n",
    "                                     \"HBSAG_1\", \"HBEAG_1\", \"ANTI_HBS_AB_1\", \"ANTI_HBC_AB_1\", \"FASTING_GLUCOSE\", \"T_CHO\",\n",
    "                                     \"TG\", \"HDL_C\", \"LDL_C\", \"T_BILIRUBIN\", \"ALBUMIN\", \"SGOT\", \"SGPT\", \"GAMMA_GT\", \"AFP\",\n",
    "                                     \"BUN\", \"CREATININE\", \"URIC_ACID\", \"MICROALB\",\"T_SCORE\"])\n",
    "    print(\"刪除身體檢測之類別資料空值後剩餘:\" + str(df_data.shape))\n",
    "\n",
    "    # 平均收縮壓、舒張壓、心跳，新增欄位取平均\n",
    "    insert_index = df_data.columns.get_loc(\"BODY_BUTTOCKS\") + 1\n",
    "    df_data.insert(insert_index, \"SIT_SYSTOLIC_PRESSURE_AVERAGE\", True)\n",
    "    df_data.loc[:, 'SIT_SYSTOLIC_PRESSURE_AVERAGE'] = (df_data['SIT_1_SYSTOLIC_PRESSURE'].astype(float) + df_data['SIT_2_SYSTOLIC_PRESSURE'].astype(float)) / 2\n",
    "\n",
    "    df_data.insert(insert_index + 1, \"SIT_DIASTOLIC_PRESSURE_AVERAGE\", True)\n",
    "    df_data.loc[:, 'SIT_DIASTOLIC_PRESSURE_AVERAGE'] = (df_data['SIT_1_DIASTOLIC_PRESSURE'].astype(float) + df_data['SIT_2_DIASTOLIC_PRESSURE'].astype(float)) / 2\n",
    "\n",
    "    df_data.insert(insert_index + 2, \"SIT_HEARTBEAT_SPEED_AVERAGE\", True)\n",
    "    df_data.loc[:, 'SIT_HEARTBEAT_SPEED_AVERAGE'] = (df_data['SIT_1_HEARTBEAT_SPEED'].astype(float) + df_data['SIT_2_HEARTBEAT_SPEED'].astype(float)) / 2\n",
    "\n",
    "    # 醣化血色素值，<3.8用0取代\n",
    "    df_data['HBA1C'].replace(['<3.8', '0'], inplace=True)\n",
    "\n",
    "    # C型肝炎抗體、B型肝炎表面抗原、B型肝炎e抗原、B型肝炎表面抗體、B型肝炎核心抗體，文字代換成數字\n",
    "    df_data['ANTI_HCV_AB_1'].replace({'Negative': 0, 'Nonreactive': 0, 'Weakly positive': 1, 'Reactive': 2, 'Positive': 2, 'Equivocal': 3}, inplace=True)\n",
    "    df_data['HBSAG_1'].replace({'Negative': 0, 'Nonreactive': 0, 'Weakly': 1, 'Reactive': 2, 'Positive': 2, 'Equivocal': 3}, inplace=True)\n",
    "    df_data['HBEAG_1'].replace({'Negative': 0, 'Nonreactive': 0, 'Reactive': 2, 'Positive': 2, 'Equivocal': 3}, inplace=True)\n",
    "    df_data['ANTI_HBS_AB_1'].replace({'Negative': 0, 'Nonreactive': 0, 'Weakly': 1, 'Weakly positive': 1, 'Reactive': 2, 'Positive': 2, 'Equivocal': 3}, inplace=True)\n",
    "    df_data['ANTI_HBC_AB_1'].replace({'Negative': 0, 'Nonreactive': 0, 'Reactive': 2, 'Positive': 2, 'Equivocal': 3}, inplace=True)\n",
    "\n",
    "    # 血清麩胺酸苯醋酸轉氨基酶，<6用0取代\n",
    "    df_data['SGOT'].replace(['<6', '0'], inplace=True)\n",
    "\n",
    "    # 血清麩胺酸丙酮酸轉氨基酶，<5/<6用0取代\n",
    "    df_data['SGPT'].replace(['<5', '<6'], ['0', '0'], inplace=True)\n",
    "\n",
    "    # γ －麩胺醯轉移酶，<3.3用0取代\n",
    "    df_data['GAMMA_GT'].replace(['<3.3', '0'], inplace=True)\n",
    "\n",
    "    # 甲型胎兒血清蛋白，<2用0取代\n",
    "    df_data['AFP'].replace(['< 2.00', '<2.00', '<2', '<2.0'], ['0', '0', '0', '0'], inplace=True)\n",
    "\n",
    "    # 尿中微蛋白，<2 用0取代/<2.09 用2取代/<2.15 用2取代/<2.16 用2取代/<2.2 用2取代/<7 用6取代\n",
    "    df_data['MICROALB'].replace(['<2', '0'], inplace=True)\n",
    "    df_data['MICROALB'].replace(['<2.09', '<2.15', '<2.16', '<2.2'], ['2', '2', '2', '2'], inplace=True)\n",
    "    df_data['MICROALB'].replace(['<7', '6'], inplace=True)\n",
    "    df_data['MICROALB'].replace(['1,060','1,070','1,140','1,150','1,180','1,330','1,380','1,430',\n",
    "                                 '1,520','1,560','1,620','1,690','1,740','1,790','2,050','2,090',\n",
    "                                 '2,110','2,320','2,460','2,530','2,610','2,960','3,380','3,680',\n",
    "                                 '3,910','3,980','4,690','5,580','7,470', '10,300','32,500','14,600'],\n",
    "                                 ['1060','1070','1140','1150','1180','1330','1380','1430',\n",
    "                                 '1520','1560','1620','1690','1740','1790','2050','2090',\n",
    "                                 '2110','2320','2460','2530','2610','2960','3380','3680',\n",
    "                                 '3910','3980','4690','5580','7470', '10300','32500','14600'], inplace=True)\n",
    "\n",
    "    # 新增label\n",
    "    insert_index = df_data.columns.get_loc(\"I_32\") + 1\n",
    "    df_data.insert(insert_index, \"Label\", True)\n",
    "    df_data.loc[:, 'Label'] = label_value\n",
    "    print(\"最終樣本數:\" + str(df_data.shape))\n",
    "\n",
    "    return df_data"
   ]
  },
  {
   "cell_type": "code",
   "execution_count": 63,
   "metadata": {},
   "outputs": [
    {
     "name": "stdout",
     "output_type": "stream",
     "text": [
      "原始資料:(7652, 162)\n",
      "刪除生活習慣空值後剩餘:(6252, 162)\n",
      "刪除疾病史空值後剩餘:(6088, 162)\n",
      "刪除女性生理狀況之類別資料空值後剩餘:(5986, 162)\n",
      "刪除中醫問診之類別資料空值後剩餘:(5984, 162)\n",
      "刪除身體檢測之類別資料空值後剩餘:(4588, 162)\n",
      "最終樣本數:(4588, 166)\n",
      "原始資料:(4748, 154)\n",
      "刪除生活習慣空值後剩餘:(3722, 154)\n",
      "刪除疾病史空值後剩餘:(3640, 154)\n",
      "刪除中醫問診之類別資料空值後剩餘:(3638, 154)\n",
      "刪除身體檢測之類別資料空值後剩餘:(2774, 154)\n",
      "最終樣本數:(2774, 158)\n",
      "原始資料:(3492, 162)\n",
      "刪除生活習慣空值後剩餘:(2838, 162)\n",
      "刪除疾病史空值後剩餘:(2737, 162)\n",
      "刪除女性生理狀況之類別資料空值後剩餘:(2643, 162)\n",
      "刪除中醫問診之類別資料空值後剩餘:(2642, 162)\n",
      "刪除身體檢測之類別資料空值後剩餘:(2099, 162)\n",
      "最終樣本數:(2099, 166)\n",
      "原始資料:(2111, 154)\n",
      "刪除生活習慣空值後剩餘:(1698, 154)\n",
      "刪除疾病史空值後剩餘:(1659, 154)\n",
      "刪除中醫問診之類別資料空值後剩餘:(1658, 154)\n",
      "刪除身體檢測之類別資料空值後剩餘:(1316, 154)\n",
      "最終樣本數:(1316, 158)\n"
     ]
    }
   ],
   "source": [
    "normal_female = check_data_format(normal_female, '0')\n",
    "normal_male = check_data_format(normal_male, '0')\n",
    "tumor_female = check_data_format(tumor_female, '1')\n",
    "tumor_male = check_data_format(tumor_male, '1')"
   ]
  },
  {
   "cell_type": "code",
   "execution_count": 64,
   "metadata": {},
   "outputs": [],
   "source": [
    "def clean_data_female(data):\n",
    "    data.iloc[:,1:121] = data.iloc[:,1:121].astype(float)\n",
    "    data.iloc[:,122:-2] = data.iloc[:,122:-2].astype(float)\n",
    "    data.iloc[:,-2:] = data.iloc[:,-2:].astype(int)\n",
    "    \n",
    "    return data\n",
    "\n",
    "def clean_data_male(data):\n",
    "    data.iloc[:,1:113] = data.iloc[:,1:113].astype(float)\n",
    "    data.iloc[:,114:-2] = data.iloc[:,114:-2].astype(float)\n",
    "    data.iloc[:,-2:] = data.iloc[:,-2:].astype(int)\n",
    "\n",
    "    return data\n",
    "\n",
    "normal_female = clean_data_female(normal_female)\n",
    "tumor_female = clean_data_female(tumor_female)\n",
    "normal_male = clean_data_male(normal_male)\n",
    "tumor_male = clean_data_male(tumor_male)"
   ]
  },
  {
   "cell_type": "code",
   "execution_count": 65,
   "metadata": {},
   "outputs": [],
   "source": [
    "normal_female.to_csv(\"../result/Control_Female.csv\",index=False)\n",
    "normal_male.to_csv(\"../result/Control_Male.csv\",index=False)\n",
    "tumor_female.to_csv(\"../result/Training_Female.csv\",index=False)\n",
    "tumor_male.to_csv(\"../result/Training_Male.csv\",index=False)"
   ]
  },
  {
   "cell_type": "code",
   "execution_count": 66,
   "metadata": {},
   "outputs": [],
   "source": [
    "normal = pd.concat([normal_female, normal_male], ignore_index=True)\n",
    "normal = normal.drop(columns=['DYSMENORRHEA','MENARCHE','MENSTRURATION_CURR','MC_DURATION','HORMOME_MED','UTERINE_CA','CERVICAL_CA','OVARIAN_CA'])\n",
    "\n",
    "tumor = pd.concat([tumor_female, tumor_male], ignore_index=True)\n",
    "tumor = tumor.drop(columns=['DYSMENORRHEA','MENARCHE','MENSTRURATION_CURR','MC_DURATION','HORMOME_MED','UTERINE_CA','CERVICAL_CA','OVARIAN_CA'])"
   ]
  },
  {
   "cell_type": "code",
   "execution_count": 67,
   "metadata": {},
   "outputs": [],
   "source": [
    "normal.to_csv(\"../result/Control.csv\",index=False)\n",
    "tumor.to_csv(\"../result/Training.csv\",index=False)"
   ]
  },
  {
   "cell_type": "code",
   "execution_count": 68,
   "metadata": {},
   "outputs": [
    {
     "data": {
      "image/png": "[encoded data removed]",
      "text/plain": [
       "<Figure size 864x432 with 2 Axes>"
      ]
     },
     "metadata": {},
     "output_type": "display_data"
    }
   ],
   "source": [
    "import matplotlib.pyplot as plt\n",
    "import numpy as np\n",
    "\n",
    "tumor_counts = tumor['SEX'].value_counts(normalize=True).sort_index() * 100\n",
    "normal_counts = normal['SEX'].value_counts(normalize=True).sort_index() * 100\n",
    "tumor_samples = tumor['SEX'].value_counts().sort_index()\n",
    "normal_samples = normal['SEX'].value_counts().sort_index()\n",
    "\n",
    "all_sex_values = sorted(set(tumor_counts.index).union(normal_counts.index))\n",
    "tumor_counts = tumor_counts.reindex(all_sex_values, fill_value=0)\n",
    "normal_counts = normal_counts.reindex(all_sex_values, fill_value=0)\n",
    "tumor_samples = tumor_samples.reindex(all_sex_values, fill_value=0)\n",
    "normal_samples = normal_samples.reindex(all_sex_values, fill_value=0)\n",
    "\n",
    "labels = ['Male', 'Female']\n",
    "\n",
    "def autopct_format(pct, allvalues):\n",
    "    absolute = int(np.round(pct/100.*np.sum(allvalues)))\n",
    "    return \"{:.1f}% ({:d})\".format(pct, absolute)\n",
    "\n",
    "plt.figure(figsize=(12, 6))\n",
    "\n",
    "plt.subplot(1, 2, 1)\n",
    "plt.pie(tumor_counts, labels=labels, autopct=lambda pct: autopct_format(pct, tumor_samples), startangle=90, colors=['lightblue', 'pink'], textprops={'fontsize': 12})\n",
    "plt.title(f'Training Set SEX Distribution (Total={tumor.shape[0]})',fontsize=14)\n",
    "\n",
    "plt.subplot(1, 2, 2)\n",
    "plt.pie(normal_counts, labels=labels, autopct=lambda pct: autopct_format(pct, normal_samples), startangle=90, colors=['lightblue', 'pink'], textprops={'fontsize': 12})\n",
    "plt.title(f'Control Set SEX Distribution (Total={normal.shape[0]})',fontsize=14)\n",
    "\n",
    "plt.show()\n"
   ]
  },
  {
   "cell_type": "code",
   "execution_count": 69,
   "metadata": {},
   "outputs": [
    {
     "name": "stdout",
     "output_type": "stream",
     "text": [
      "(7362, 158)\n",
      "(3415, 158)\n"
     ]
    }
   ],
   "source": [
    "print(normal.shape)\n",
    "print(tumor.shape)"
   ]
  },
  {
   "cell_type": "code",
   "execution_count": 70,
   "metadata": {},
   "outputs": [],
   "source": [
    "normal=pd.read_csv(\"../result/Control.csv\")\n",
    "tumor=pd.read_csv(\"../result/Training.csv\")"
   ]
  }
 ],
 "metadata": {
  "kernelspec": {
   "display_name": "base",
   "language": "python",
   "name": "python3"
  },
  "language_info": {
   "codemirror_mode": {
    "name": "ipython",
    "version": 3
   },
   "file_extension": ".py",
   "mimetype": "text/x-python",
   "name": "python",
   "nbconvert_exporter": "python",
   "pygments_lexer": "ipython3",
   "version": "3.8.8"
  }
 },
 "nbformat": 4,
 "nbformat_minor": 2
}
