{
 "cells": [
  {
   "cell_type": "markdown",
   "metadata": {},
   "source": [
    "#### 特徵篩選"
   ]
  },
  {
   "cell_type": "code",
   "execution_count": 71,
   "metadata": {},
   "outputs": [],
   "source": [
    "import pandas as pd\n",
    "import xgboost as xgb\n",
    "from sklearn.model_selection import train_test_split, GridSearchCV\n",
    "import numpy as np\n",
    "import matplotlib.pyplot as plt\n",
    "from sklearn import metrics\n",
    "from imblearn.over_sampling import SMOTE\n",
    "from imblearn.over_sampling import BorderlineSMOTE\n",
    "from imblearn.under_sampling import RandomUnderSampler"
   ]
  },
  {
   "cell_type": "code",
   "execution_count": 101,
   "metadata": {},
   "outputs": [
    {
     "name": "stdout",
     "output_type": "stream",
     "text": [
      "(2774, 158)\n",
      "(1316, 158)\n"
     ]
    }
   ],
   "source": [
    "sex = 'Male'\n",
    "control=pd.read_csv(f\"../result/Control_{sex}.csv\")\n",
    "training=pd.read_csv(f\"../result/Training_{sex}.csv\")\n",
    "\n",
    "print(control.shape)\n",
    "print(training.shape)"
   ]
  },
  {
   "cell_type": "code",
   "execution_count": 102,
   "metadata": {},
   "outputs": [
    {
     "name": "stdout",
     "output_type": "stream",
     "text": [
      "<class 'pandas.core.frame.DataFrame'>\n",
      "RangeIndex: 4090 entries, 0 to 4089\n",
      "Columns: 154 entries, AGE to MICROALB\n",
      "dtypes: float64(154)\n",
      "memory usage: 4.8 MB\n",
      "None\n",
      "樣本數:  4090\n"
     ]
    }
   ],
   "source": [
    "features = pd.concat([control,training],ignore_index=True)\n",
    "features = features.drop(columns=['TWB2_ID','I_32','Label'])\n",
    "\n",
    "#將ID排除\n",
    "X = features.iloc[:,1::]\n",
    "print(X.info())\n",
    "\n",
    "feature_names = X.columns\n",
    "X = [X.iloc[i,:].values.flatten().tolist() for i in range(control.shape[0]+training.shape[0])]\n",
    "print('樣本數: ',len(X))\n",
    "\n",
    "control_label=control.iloc[:,-1]\n",
    "training_label=training.iloc[:,-1]\n",
    "y=list(pd.concat([control_label,training_label],ignore_index=True))"
   ]
  },
  {
   "cell_type": "code",
   "execution_count": 103,
   "metadata": {},
   "outputs": [
    {
     "name": "stdout",
     "output_type": "stream",
     "text": [
      "訓練集樣本數量： 3681\n",
      "測試集樣本數量： 409\n",
      "訓練集中各類別樣本數量：\n",
      "Counter({0: 2486, 1: 1195})\n",
      "測試集中各類別樣本數量：\n",
      "Counter({0: 288, 1: 121})\n"
     ]
    }
   ],
   "source": [
    "from collections import Counter\n",
    "\n",
    "# 分割資料集 (training and validation sets)\n",
    "X_train, X_val, y_train, y_val = train_test_split(X, y, test_size=0.1, random_state=42)\n",
    "\n",
    "print(f\"訓練集樣本數量： {len(X_train)}\")\n",
    "print(f\"測試集樣本數量： {len(X_val)}\")\n",
    "train_class_distribution = Counter(y_train)\n",
    "val_class_distribution = Counter(y_val)\n",
    "print(\"訓練集中各類別樣本數量：\")\n",
    "print(train_class_distribution)\n",
    "print(\"測試集中各類別樣本數量：\")\n",
    "print(val_class_distribution)"
   ]
  },
  {
   "cell_type": "code",
   "execution_count": 104,
   "metadata": {},
   "outputs": [
    {
     "name": "stdout",
     "output_type": "stream",
     "text": [
      "SMOTE train set sampling:\n",
      "Counter({0: 2486, 1: 2486})\n",
      "BSMOTE train set sampling:\n",
      "Counter({0: 2486, 1: 2486})\n",
      "Random sampling:\n",
      "Counter({0: 121, 1: 121})\n",
      "SMOTE test set sampling:\n",
      "Counter({0: 288, 1: 288})\n",
      "BSMOTE test set sampling:\n",
      "Counter({0: 288, 1: 288})\n"
     ]
    }
   ],
   "source": [
    "# train set use SMOTE\n",
    "smote_train_X, smote_train_Y = SMOTE(random_state=42).fit_resample(X_train, y_train)\n",
    "print('SMOTE train set sampling:')\n",
    "print(Counter(smote_train_Y))\n",
    "\n",
    "# train set use BSMOTE\n",
    "bsmote_train_X, bsmote_train_Y = BorderlineSMOTE(random_state=42, kind='borderline-2').fit_resample(X_train, y_train)\n",
    "print('BSMOTE train set sampling:')\n",
    "print(Counter(bsmote_train_Y))\n",
    "\n",
    "# test set balance\n",
    "bal_x_test, bal_y_test = RandomUnderSampler(random_state=42).fit_resample(X_val,y_val)\n",
    "print('Random sampling:')\n",
    "print(Counter(bal_y_test))\n",
    "\n",
    "smote_test_X, smote_test_Y = SMOTE(random_state=42).fit_resample(X_val,y_val)\n",
    "print('SMOTE test set sampling:')\n",
    "print(Counter(smote_test_Y))\n",
    "\n",
    "bsmote_test_X, bsmote_test_Y = BorderlineSMOTE(random_state=42).fit_resample(X_val,y_val)\n",
    "print('BSMOTE test set sampling:')\n",
    "print(Counter(bsmote_test_Y))"
   ]
  },
  {
   "cell_type": "code",
   "execution_count": 78,
   "metadata": {},
   "outputs": [
    {
     "name": "stdout",
     "output_type": "stream",
     "text": [
      "Fitting 5 folds for each of 27 candidates, totalling 135 fits\n",
      "Best Parameters: {'min_samples_leaf': 50, 'min_samples_split': 50, 'n_estimators': 150}\n",
      "Best Score: 0.7524610982477781\n"
     ]
    }
   ],
   "source": [
    "#xgb\n",
    "# model = xgb.XGBClassifier(random_state=42)\n",
    "# param_grid = {\n",
    "#     # Male\n",
    "#     'learning_rate': [0.01,0.05, 0.1],\n",
    "#     'n_estimators': [10,50,100],\n",
    "#     'max_depth': [2,3, 4],\n",
    "#     'subsample': [0.5,0.6,0.7],\n",
    "#     'colsample_bytree': [0.2,0.3,0.4],\n",
    "#     'min_child_weight': [20,30,40],\n",
    "#     # Female\n",
    "#     # 'learning_rate': [0.001, 0.01, 0.1],\n",
    "#     # 'n_estimators': [100,200,300],\n",
    "#     # 'max_depth': [2, 3, 4],\n",
    "#     # 'subsample': [0.6, 0.7, 0.8],\n",
    "#     # 'colsample_bytree': [0.4, 0.5, 0.6],\n",
    "# }\n",
    "\n",
    "# dt\n",
    "# from sklearn.tree import DecisionTreeClassifier\n",
    "# model=DecisionTreeClassifier(random_state=42)\n",
    "# param_grid = {\n",
    "#     # Male\n",
    "#     'max_depth': [3,4,5],\n",
    "#     'min_samples_split': [5, 10, 20,30],\n",
    "#     'min_samples_leaf': [5, 10, 20],\n",
    "#     'max_features': [10,20,30]\n",
    "#     # Female\n",
    "#     # 'max_depth': [6,7,8,9,10],\n",
    "#     # 'max_features': [30,35,40]\n",
    "# }\n",
    "\n",
    "# rf\n",
    "from sklearn import ensemble\n",
    "model = ensemble.RandomForestClassifier(random_state=42)\n",
    "param_grid = {\n",
    "    # Male\n",
    "    'n_estimators': [100,150,200],\n",
    "    'min_samples_split': [50,60,70],\n",
    "    'min_samples_leaf': [50,60,70],\n",
    "\n",
    "    # Female\n",
    "    # 'n_estimators': [100,150,200],\n",
    "    # 'max_depth': [None, 5, 10, 20],\n",
    "    # 'min_samples_split': [30,40,50],\n",
    "    # 'min_samples_leaf': [30,40,50],\n",
    "    # 'max_features': [5,10,20]\n",
    "}\n",
    "# SVM\n",
    "# from sklearn import svm\n",
    "# model = svm.SVC(random_state=42)\n",
    "# param_grid = {\n",
    "#     # Male\n",
    "#     'kernel': ['rbf', 'poly', 'sigmoid']\n",
    "#     # Female\n",
    "# }\n",
    "\n",
    "grid_search = GridSearchCV(estimator=model, param_grid=param_grid, cv=5, n_jobs=-1, verbose=2)\n",
    "grid_search.fit(smote_train_X, smote_train_Y)\n",
    "print(\"Best Parameters:\", grid_search.best_params_)\n",
    "print(\"Best Score:\", grid_search.best_score_)\n",
    "best_model = grid_search.best_estimator_"
   ]
  },
  {
   "cell_type": "markdown",
   "metadata": {},
   "source": [
    "#### SVM查看特徵重要性 (permutation importance) "
   ]
  },
  {
   "cell_type": "code",
   "execution_count": 59,
   "metadata": {},
   "outputs": [
    {
     "name": "stdout",
     "output_type": "stream",
     "text": [
      "Model Training Error: 0.5685155898168872\n",
      "Model Testing Error: 0.5936586186989586\n",
      "feature importances:\n",
      "                              0         1\n",
      "0                          I_18  0.029445\n",
      "1                           AGE  0.020696\n",
      "2                          I_11  0.013576\n",
      "3                            TG  0.003942\n",
      "4                          I_30  0.003721\n",
      "5                          I_23  0.003681\n",
      "6                           I_9  0.003500\n",
      "7               FASTING_GLUCOSE  0.003278\n",
      "8                           I_3  0.002816\n",
      "9                           I_4  0.002615\n",
      "10                         I_34  0.001931\n",
      "11                  BODY_WEIGHT  0.001911\n",
      "12                     MICROALB  0.001891\n",
      "13                     GAMMA_GT  0.001529\n",
      "14          JOB_LGST_OCCUPATION  0.001508\n",
      "15                          I_7  0.001488\n",
      "16                         SGPT  0.001307\n",
      "17                     PLATELET  0.001287\n",
      "18                        LDL_C  0.001187\n",
      "19                  BODY_HEIGHT  0.001146\n",
      "20                          I_2  0.001146\n",
      "21                         I_33  0.001086\n",
      "22                        T_CHO  0.001066\n",
      "23                         I_16  0.001026\n",
      "24                         I_21  0.000945\n",
      "25                         I_17  0.000925\n",
      "26                         I_31  0.000784\n",
      "27                         I_36  0.000744\n",
      "28      SIT_2_SYSTOLIC_PRESSURE  0.000684\n",
      "29                          I_8  0.000644\n",
      "30                         SGOT  0.000603\n",
      "31                BODY_BUTTOCKS  0.000563\n",
      "32                         I_42  0.000503\n",
      "33                         I_40  0.000402\n",
      "34                         I_44  0.000382\n",
      "35                         I_29  0.000382\n",
      "36                        HDL_C  0.000322\n",
      "37                      T_SCORE  0.000302\n",
      "38        SIT_2_HEARTBEAT_SPEED  0.000302\n",
      "39                         I_13  0.000302\n",
      "40                          I_6  0.000282\n",
      "41  SIT_HEARTBEAT_SPEED_AVERAGE  0.000282\n",
      "42                         I_35  0.000201\n",
      "43                          AFP  0.000181\n",
      "44                BODY_FAT_RATE  0.000121\n",
      "45                ANTI_HBC_AB_1  0.000121\n",
      "46                          BMI  0.000080\n",
      "47                           HB  0.000080\n",
      "48                         I_19  0.000060\n",
      "49                      HBSAG_1  0.000020\n"
     ]
    }
   ],
   "source": [
    "from sklearn.inspection import permutation_importance\n",
    "from sklearn.metrics import mean_squared_error\n",
    "\n",
    "# train\n",
    "y_pred = best_model.predict(smote_train_X)\n",
    "err = mean_squared_error(smote_train_Y, y_pred, squared=False)\n",
    "print(\"Model Training Error:\", err)\n",
    "\n",
    "# test\n",
    "y_pred = best_model.predict(bsmote_test_X)\n",
    "err = mean_squared_error(bsmote_test_Y, y_pred, squared=False)\n",
    "print(\"Model Testing Error:\", err)\n",
    "\n",
    "result = permutation_importance(best_model, smote_train_X,smote_train_Y, n_repeats=10, random_state=42, n_jobs=-1)\n",
    "importance = result.importances_mean\n",
    "\n",
    "positive_scores = [v for i, v in enumerate(importance) if v > 0]\n",
    "positive_feature_names = [feature_names[i] for i, v in enumerate(importance) if v > 0]\n",
    "\n",
    "top_features = sorted(zip(positive_scores, positive_feature_names), reverse=True)\n",
    "top_scores = [score for score, _ in top_features]\n",
    "top_feature_names = [name for _, name in top_features]\n",
    "\n",
    "print(\"feature importances:\")\n",
    "print(pd.DataFrame(zip(top_feature_names, top_scores)))\n",
    "pd.DataFrame(list(zip(top_feature_names, top_scores)), columns=['feature', 'importance']).to_csv(f'../result/feature_importance/{sex}_svm.csv', index=False)"
   ]
  },
  {
   "cell_type": "markdown",
   "metadata": {},
   "source": [
    "#### XGBoost、Decision Tree、Random Forest查看特徵重要性 (feature_importance_) "
   ]
  },
  {
   "cell_type": "markdown",
   "metadata": {},
   "source": [
    "通常用於快速查看模型對各個特徵的相對重要性，但不一定會反映特徵在模型預測中的實際效果。"
   ]
  },
  {
   "cell_type": "code",
   "execution_count": 79,
   "metadata": {},
   "outputs": [
    {
     "name": "stdout",
     "output_type": "stream",
     "text": [
      "0.7760416666666666\n",
      "0.8173773129525342\n",
      "feature importances:\n",
      "                feature  importance\n",
      "86                 I_18    0.091910\n",
      "79                 I_11    0.081825\n",
      "0                   AGE    0.043578\n",
      "91                 I_23    0.043116\n",
      "84                 I_16    0.031879\n",
      "..                  ...         ...\n",
      "68                  I_0    0.000000\n",
      "66          COLOR_BLIND    0.000000\n",
      "65                BLIND    0.000000\n",
      "63  RENTINAL_DETACHMENT    0.000000\n",
      "17       CARDIOMYOPATHY    0.000000\n",
      "\n",
      "[154 rows x 2 columns]\n"
     ]
    }
   ],
   "source": [
    "from sklearn.metrics import accuracy_score\n",
    "best_model.fit(smote_train_X, smote_train_Y)\n",
    "\n",
    "y_pred = best_model.predict(smote_test_X)\n",
    "print(accuracy_score(smote_test_Y, y_pred.round()))\n",
    "\n",
    "y_pred_train = best_model.predict(smote_train_X)\n",
    "print(accuracy_score(smote_train_Y, y_pred_train.round()))\n",
    "\n",
    "# 獲取特徵重要度和標籤\n",
    "feature_importances = best_model.feature_importances_\n",
    "feature_names = features.columns[1:]\n",
    "df_feature_importances = pd.DataFrame({\n",
    "    'feature': feature_names,\n",
    "    'importance': feature_importances\n",
    "})\n",
    "\n",
    "# 排序重要度\n",
    "df_feature_importances.sort_values('importance', ascending=False, inplace=True)\n",
    "\n",
    "print(\"feature importances:\")\n",
    "print(pd.DataFrame(df_feature_importances))\n",
    "(pd.DataFrame(df_feature_importances)).to_csv(f'../result/feature_importance/{sex}_rf.csv', index=False)"
   ]
  },
  {
   "cell_type": "markdown",
   "metadata": {},
   "source": [
    "#### 正規化重要度"
   ]
  },
  {
   "cell_type": "code",
   "execution_count": 90,
   "metadata": {},
   "outputs": [],
   "source": [
    "dt_imp=pd.read_csv(f'../result/feature_importance/{sex}_dt.csv')\n",
    "svm_imp=pd.read_csv(f'../result/feature_importance/{sex}_svm.csv')\n",
    "xgb_imp=pd.read_csv(f'../result/feature_importance/{sex}_xgb.csv')\n",
    "rf_imp=pd.read_csv(f'../result/feature_importance/{sex}_rf.csv')\n",
    "\n",
    "# 正規化重要度\n",
    "from sklearn.preprocessing import MinMaxScaler\n",
    "\n",
    "def MinMax_normalize(data):\n",
    "    scaler = MinMaxScaler()\n",
    "    data_norm = scaler.fit_transform(data['importance'].to_frame())\n",
    "    data['importance'] = pd.Series(data_norm.flatten())\n",
    "\n",
    "MinMax_normalize(dt_imp)\n",
    "MinMax_normalize(svm_imp)\n",
    "MinMax_normalize(xgb_imp)\n",
    "MinMax_normalize(rf_imp)\n",
    "\n",
    "dt_imp.to_csv(f'../result/feature_importance/normalized/{sex}_dt.csv',index=False)\n",
    "svm_imp.to_csv(f'../result/feature_importance/normalized/{sex}_svm.csv',index=False)\n",
    "xgb_imp.to_csv(f'../result/feature_importance/normalized/{sex}_xgb.csv',index=False)\n",
    "rf_imp.to_csv(f'../result/feature_importance/normalized/{sex}_rf.csv' ,index=False)"
   ]
  }
 ],
 "metadata": {
  "kernelspec": {
   "display_name": "base",
   "language": "python",
   "name": "python3"
  },
  "language_info": {
   "codemirror_mode": {
    "name": "ipython",
    "version": 3
   },
   "file_extension": ".py",
   "mimetype": "text/x-python",
   "name": "python",
   "nbconvert_exporter": "python",
   "pygments_lexer": "ipython3",
   "version": "3.8.8"
  }
 },
 "nbformat": 4,
 "nbformat_minor": 2
}
